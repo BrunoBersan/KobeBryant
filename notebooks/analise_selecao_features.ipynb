{
 "cells": [
  {
   "cell_type": "code",
   "execution_count": 38,
   "metadata": {},
   "outputs": [],
   "source": [
    "import warnings  \n",
    "import pandas as pd \n",
    "\n",
    "\n",
    "pd.set_option('display.max_columns', None)\n",
    "pd.set_option('display.max_colwidth', None)\n",
    "warnings.filterwarnings('ignore')"
   ]
  },
  {
   "cell_type": "markdown",
   "metadata": {},
   "source": [
    "# Seleção e tratamento das Features"
   ]
  },
  {
   "cell_type": "code",
   "execution_count": null,
   "metadata": {},
   "outputs": [],
   "source": [
    "data_set = catalog.load('data_shots_normalized')"
   ]
  },
  {
   "cell_type": "code",
   "execution_count": null,
   "metadata": {},
   "outputs": [],
   "source": [
    "data_set.head(5)\n"
   ]
  },
  {
   "cell_type": "markdown",
   "metadata": {},
   "source": [
    "### Features obrigatórias \n",
    "\n",
    "1. lat\n",
    "2. lng\n",
    "3. minutes remaining\n",
    "4. period\n",
    "5. playoffs\n",
    "6. shot_distance \n",
    "\n",
    "### Features Não obrigatórias, porém que considero importante para análise de um modelo em um jogo de basquete\n",
    "\n",
    "1. combined_shot_type\n",
    "2. shot_zone_area\n",
    "3. loc_x\n",
    "4. loc_y\n"
   ]
  },
  {
   "cell_type": "code",
   "execution_count": null,
   "metadata": {},
   "outputs": [],
   "source": [
    "features = data_set[\n",
    "    [\n",
    "        'lat', 'lon', 'minutes_remaining', 'period', \n",
    "        'playoffs','shot_distance', 'combined_shot_type', \n",
    "        'loc_x', 'loc_y', 'shot_made_flag'\n",
    "    ] \n",
    "]"
   ]
  },
  {
   "cell_type": "code",
   "execution_count": null,
   "metadata": {},
   "outputs": [],
   "source": [
    "features = features.join(pd.get_dummies(features['combined_shot_type'], prefix='shot_type', drop_first=True)) \n",
    "features = features.drop(['combined_shot_type'], axis=1)\n"
   ]
  },
  {
   "cell_type": "code",
   "execution_count": 26,
   "metadata": {},
   "outputs": [
    {
     "name": "stdout",
     "output_type": "stream",
     "text": [
      "<class 'pandas.core.frame.DataFrame'>\n",
      "Index: 20285 entries, 1 to 30696\n",
      "Data columns (total 19 columns):\n",
      " #   Column                      Non-Null Count  Dtype  \n",
      "---  ------                      --------------  -----  \n",
      " 0   lat                         20285 non-null  float64\n",
      " 1   lon                         20285 non-null  float64\n",
      " 2   minutes_remaining           20285 non-null  int64  \n",
      " 3   period                      20285 non-null  int64  \n",
      " 4   playoffs                    20285 non-null  int64  \n",
      " 5   shot_distance               20285 non-null  int64  \n",
      " 6   loc_x                       20285 non-null  int64  \n",
      " 7   loc_y                       20285 non-null  int64  \n",
      " 8   shot_made_flag              20285 non-null  float64\n",
      " 9   shot_type_Dunk              20285 non-null  bool   \n",
      " 10  shot_type_Hook Shot         20285 non-null  bool   \n",
      " 11  shot_type_Jump Shot         20285 non-null  bool   \n",
      " 12  shot_type_Layup             20285 non-null  bool   \n",
      " 13  shot_type_Tip Shot          20285 non-null  bool   \n",
      " 14  area_Center(C)              20285 non-null  bool   \n",
      " 15  area_Left Side Center(LC)   20285 non-null  bool   \n",
      " 16  area_Left Side(L)           20285 non-null  bool   \n",
      " 17  area_Right Side Center(RC)  20285 non-null  bool   \n",
      " 18  area_Right Side(R)          20285 non-null  bool   \n",
      "dtypes: bool(10), float64(3), int64(6)\n",
      "memory usage: 2.2 MB\n"
     ]
    }
   ],
   "source": [
    "features.info()"
   ]
  }
 ],
 "metadata": {
  "kernelspec": {
   "display_name": "Kedro (pd_kobe)",
   "language": "python",
   "name": "kedro_pd_kobe"
  },
  "language_info": {
   "codemirror_mode": {
    "name": "ipython",
    "version": 3
   },
   "file_extension": ".py",
   "mimetype": "text/x-python",
   "name": "python",
   "nbconvert_exporter": "python",
   "pygments_lexer": "ipython3",
   "version": "3.11.11"
  }
 },
 "nbformat": 4,
 "nbformat_minor": 2
}
